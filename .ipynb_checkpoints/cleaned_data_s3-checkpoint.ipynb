{
 "cells": [
  {
   "cell_type": "code",
   "execution_count": 13,
   "id": "d7f2f8b9-2812-4658-8e60-3a0284503dd5",
   "metadata": {},
   "outputs": [
    {
     "name": "stdout",
     "output_type": "stream",
     "text": [
      "✅ Cleaned dataset saved to s3://kinesis-lambda-s3-bucket1/cleaned/weather_data_cleaned.csv\n"
     ]
    }
   ],
   "source": [
    "import boto3\n",
    "import json\n",
    "import pandas as pd\n",
    "from io import BytesIO\n",
    "\n",
    "s3 = boto3.client('s3')\n",
    "bucket = 'kinesis-lambda-s3-bucket1'  # your bucket\n",
    "prefix = 'weather_data/2024-03-25/'  # or broader like 'weather_data/'\n",
    "\n",
    "records = []\n",
    "\n",
    "# List all JSON files under the prefix\n",
    "objects = s3.list_objects_v2(Bucket=bucket, Prefix=prefix)\n",
    "\n",
    "for obj in objects.get('Contents', []):\n",
    "    key = obj['Key']\n",
    "    if key.endswith('.json'):\n",
    "        file = s3.get_object(Bucket=bucket, Key=key)\n",
    "        content = file['Body'].read().decode('utf-8')\n",
    "        data = json.loads(content)\n",
    "        records.append(data)\n",
    "\n",
    "# Convert to DataFrame\n",
    "df = pd.DataFrame(records)\n",
    "\n",
    "# Optional Cleaning: drop NA, select columns, convert datatypes\n",
    "df_cleaned = df.dropna()\n",
    "df_cleaned['date'] = pd.to_datetime(df_cleaned['date'])\n",
    "\n",
    "# Save cleaned dataset as CSV back to S3\n",
    "csv_buffer = BytesIO()\n",
    "df_cleaned.to_csv(csv_buffer, index=False)\n",
    "\n",
    "cleaned_key = 'cleaned/weather_data_cleaned.csv'\n",
    "s3.put_object(Bucket=bucket, Key=cleaned_key, Body=csv_buffer.getvalue())\n",
    "\n",
    "print(f\"✅ Cleaned dataset saved to s3://{bucket}/{cleaned_key}\")\n"
   ]
  },
  {
   "cell_type": "code",
   "execution_count": null,
   "id": "a012f52e-93a5-4d37-928c-0a74bdc418b1",
   "metadata": {},
   "outputs": [],
   "source": []
  }
 ],
 "metadata": {
  "kernelspec": {
   "display_name": "Python 3 (ipykernel)",
   "language": "python",
   "name": "python3"
  },
  "language_info": {
   "codemirror_mode": {
    "name": "ipython",
    "version": 3
   },
   "file_extension": ".py",
   "mimetype": "text/x-python",
   "name": "python",
   "nbconvert_exporter": "python",
   "pygments_lexer": "ipython3",
   "version": "3.9.7"
  }
 },
 "nbformat": 4,
 "nbformat_minor": 5
}
